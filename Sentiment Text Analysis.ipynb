{
 "cells": [
  {
   "cell_type": "code",
   "execution_count": 1,
   "metadata": {},
   "outputs": [],
   "source": [
    "import pandas as pd\n",
    "from sklearn.naive_bayes import MultinomialNB\n",
    "from sklearn.feature_extraction.text import CountVectorizer"
   ]
  },
  {
   "cell_type": "code",
   "execution_count": 2,
   "metadata": {},
   "outputs": [
    {
     "data": {
      "text/html": [
       "<div>\n",
       "<style scoped>\n",
       "    .dataframe tbody tr th:only-of-type {\n",
       "        vertical-align: middle;\n",
       "    }\n",
       "\n",
       "    .dataframe tbody tr th {\n",
       "        vertical-align: top;\n",
       "    }\n",
       "\n",
       "    .dataframe thead th {\n",
       "        text-align: right;\n",
       "    }\n",
       "</style>\n",
       "<table border=\"1\" class=\"dataframe\">\n",
       "  <thead>\n",
       "    <tr style=\"text-align: right;\">\n",
       "      <th></th>\n",
       "      <th>SentimenID</th>\n",
       "      <th>SentimentScore</th>\n",
       "      <th>SentimentText</th>\n",
       "    </tr>\n",
       "  </thead>\n",
       "  <tbody>\n",
       "    <tr>\n",
       "      <th>0</th>\n",
       "      <td>101</td>\n",
       "      <td>1</td>\n",
       "      <td>I love it</td>\n",
       "    </tr>\n",
       "    <tr>\n",
       "      <th>1</th>\n",
       "      <td>102</td>\n",
       "      <td>1</td>\n",
       "      <td>Very nice</td>\n",
       "    </tr>\n",
       "    <tr>\n",
       "      <th>2</th>\n",
       "      <td>103</td>\n",
       "      <td>0</td>\n",
       "      <td>Very late</td>\n",
       "    </tr>\n",
       "    <tr>\n",
       "      <th>3</th>\n",
       "      <td>104</td>\n",
       "      <td>1</td>\n",
       "      <td>Quick response</td>\n",
       "    </tr>\n",
       "    <tr>\n",
       "      <th>4</th>\n",
       "      <td>105</td>\n",
       "      <td>1</td>\n",
       "      <td>Be happy</td>\n",
       "    </tr>\n",
       "  </tbody>\n",
       "</table>\n",
       "</div>"
      ],
      "text/plain": [
       "   SentimenID  SentimentScore   SentimentText\n",
       "0         101               1       I love it\n",
       "1         102               1       Very nice\n",
       "2         103               0       Very late\n",
       "3         104               1  Quick response\n",
       "4         105               1        Be happy"
      ]
     },
     "execution_count": 2,
     "metadata": {},
     "output_type": "execute_result"
    }
   ],
   "source": [
    "df = pd.read_excel(\"data/Sentimental.xlsx\")\n",
    "df.head()"
   ]
  },
  {
   "cell_type": "code",
   "execution_count": 3,
   "metadata": {},
   "outputs": [
    {
     "name": "stdout",
     "output_type": "stream",
     "text": [
      "{'love': 13, 'very': 27, 'nice': 16, 'late': 11, 'quick': 20, 'response': 21, 'happy': 8, 'bad': 1, 'services': 22, 'good': 7, 'luck': 14, 'hate': 9, 'like': 12, 'so': 25, 'glad': 6, 'fast': 5, 'shipping': 23, 'beautiful': 2, 'pretty': 18, 'best': 3, 'information': 10, 'well': 28, 'done': 4, 'afraid': 0, 'not': 17, 'professional': 19, 'mad': 15, 'smell': 24, 'terrible': 26}\n"
     ]
    }
   ],
   "source": [
    "X = df[\"SentimentText\"]\n",
    "y = df[\"SentimentScore\"]\n",
    "\n",
    "vectorizer = CountVectorizer(stop_words=[\"is\",\"am\",\"are\",\"in\",\"on\",\"at\",\"all\",\"the\",\"and\",\"be\",\"her\",\"it\",\"me\",\"you\",\"that\"])\n",
    "vectorizer_message = vectorizer.fit_transform(X)\n",
    "print(vectorizer.vocabulary_)"
   ]
  },
  {
   "cell_type": "code",
   "execution_count": 4,
   "metadata": {},
   "outputs": [
    {
     "name": "stdout",
     "output_type": "stream",
     "text": [
      "(20, 29)\n"
     ]
    }
   ],
   "source": [
    "print(vectorizer_message.shape)"
   ]
  },
  {
   "cell_type": "code",
   "execution_count": 5,
   "metadata": {},
   "outputs": [],
   "source": [
    "# PCA and Train Test\n",
    "\n",
    "model_naive = MultinomialNB()\n",
    "model_naive.fit(vectorizer_message,y)\n",
    "\n",
    "test_text = [\"Good Products&Services\", \"I like this products\",\"Very bad service\", \"Beautiful products, I like it\"]\n",
    "test_text_vectorize = vectorizer.transform(test_text)\n",
    "predict_result = model_naive.predict(test_text_vectorize)"
   ]
  },
  {
   "cell_type": "code",
   "execution_count": 6,
   "metadata": {},
   "outputs": [
    {
     "name": "stdout",
     "output_type": "stream",
     "text": [
      "Good Products&Services ==> ลูกค้า พึงพอใจ ในสินค้าและบริการ\n",
      "I like this products ==> ลูกค้า พึงพอใจ ในสินค้าและบริการ\n",
      "Very bad service ==> ลูกค้า ไม่พึงพอใจ ในสินค้าและบริการ\n",
      "Beautiful products, I like it ==> ลูกค้า พึงพอใจ ในสินค้าและบริการ\n"
     ]
    }
   ],
   "source": [
    "# Result \n",
    "\n",
    "i = 0\n",
    "for sentence in test_text :\n",
    "    if(predict_result[i] == 0) :\n",
    "        result = \"ลูกค้า ไม่พึงพอใจ ในสินค้าและบริการ\"\n",
    "    else :\n",
    "        result = \"ลูกค้า พึงพอใจ ในสินค้าและบริการ\"\n",
    "    print(sentence, \"==>\" , result)\n",
    "    i = i+1"
   ]
  }
 ],
 "metadata": {
  "kernelspec": {
   "display_name": "Python 3",
   "language": "python",
   "name": "python3"
  },
  "language_info": {
   "codemirror_mode": {
    "name": "ipython",
    "version": 3
   },
   "file_extension": ".py",
   "mimetype": "text/x-python",
   "name": "python",
   "nbconvert_exporter": "python",
   "pygments_lexer": "ipython3",
   "version": "3.8.0"
  }
 },
 "nbformat": 4,
 "nbformat_minor": 4
}
